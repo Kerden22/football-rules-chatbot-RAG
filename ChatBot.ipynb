{
 "cells": [
  {
   "cell_type": "markdown",
   "id": "676571e5-fec0-479b-881e-14e739492a59",
   "metadata": {},
   "source": [
    "# **PDF Yükleme**"
   ]
  },
  {
   "cell_type": "code",
   "execution_count": 43,
   "id": "cba10329-fc26-4af3-8163-917face8debd",
   "metadata": {},
   "outputs": [],
   "source": [
    "from langchain_community.document_loaders import PyPDFLoader\n",
    "\n",
    "loader = PyPDFLoader(\"FutbolKuralları.pdf\");\n",
    "data = loader.load()"
   ]
  },
  {
   "cell_type": "code",
   "execution_count": 44,
   "id": "06bfa419-b3e9-430e-a662-3530051ad58d",
   "metadata": {},
   "outputs": [
    {
     "name": "stdout",
     "output_type": "stream",
     "text": [
      "Toplam sayfa sayısı: 230\n"
     ]
    }
   ],
   "source": [
    "print(f\"Toplam sayfa sayısı: {len(data)}\")"
   ]
  },
  {
   "cell_type": "code",
   "execution_count": null,
   "id": "735cd807-d68e-45b8-98d4-6a028b2eea6c",
   "metadata": {
    "scrolled": true
   },
   "outputs": [],
   "source": [
    "# print(\"\\n10. Sayfanın içeriği:\\n\")\n",
    "# print(data[38].page_content[:5000])  "
   ]
  },
  {
   "cell_type": "markdown",
   "id": "048ebf2b-1a6d-4902-8187-5f5349509f18",
   "metadata": {},
   "source": [
    "# **PDF Metnini Tek Bir Bütün Haline Getirme**"
   ]
  },
  {
   "cell_type": "code",
   "execution_count": 46,
   "id": "846308e3-26c2-42b3-8321-b3f6b2d57fd0",
   "metadata": {},
   "outputs": [],
   "source": [
    "# PDF'nin tüm sayfalarını tek bir metin haline getir\n",
    "all_text = \"\\n\".join([page.page_content for page in data])"
   ]
  },
  {
   "cell_type": "markdown",
   "id": "9b049c6e-4a16-415e-a9b9-eff55f5aab50",
   "metadata": {},
   "source": [
    "# **Veriyi parçalara ayırma (Chunking İşlemi)**\n",
    "### Metni 1000 karakterlik parçalar halinde bölerek işlemeye hazır hale getiriyoruz."
   ]
  },
  {
   "cell_type": "code",
   "execution_count": 48,
   "id": "712228e2-59cc-4a36-8dbb-77c98c47187b",
   "metadata": {},
   "outputs": [
    {
     "name": "stdout",
     "output_type": "stream",
     "text": [
      "Toplam parça sayısı: 216\n"
     ]
    }
   ],
   "source": [
    "from langchain_text_splitters import RecursiveCharacterTextSplitter\n",
    "\n",
    "# Metni daha küçük parçalar (chunk'lar) haline getirecek olan text splitter\n",
    "text_splitter = RecursiveCharacterTextSplitter(chunk_size=1000, chunk_overlap=100)\n",
    "\n",
    "# Parçalara bölelim\n",
    "docs = text_splitter.split_text(all_text)\n",
    "\n",
    "# Kaç parça olduğunu görelim\n",
    "print(f\"Toplam parça sayısı: {len(docs)}\")"
   ]
  },
  {
   "cell_type": "code",
   "execution_count": null,
   "id": "775dc1bc-bc4f-4c4d-b3f9-de9ad01d898c",
   "metadata": {},
   "outputs": [],
   "source": [
    "# docs[4]"
   ]
  },
  {
   "cell_type": "markdown",
   "id": "7d2b87f3-5d90-4d1a-8dbd-5b82683f79bd",
   "metadata": {},
   "source": [
    "# **Metinleri Vektörleştirme (Embedding) ve Veritabanına Kaydetme**\n",
    "### Metinleri embedding (vektör) formatına çevirip ChromaDB'ye kaydediyoruz."
   ]
  },
  {
   "cell_type": "code",
   "execution_count": 50,
   "id": "6e6ff099-878b-4902-9781-cd7a2d9389ad",
   "metadata": {},
   "outputs": [
    {
     "name": "stdout",
     "output_type": "stream",
     "text": [
      "Tüm chunk'lar embedding'e çevrildi ve ChromaDB'ye kaydedildi\n"
     ]
    }
   ],
   "source": [
    "from langchain_chroma import Chroma\n",
    "from langchain_google_genai import GoogleGenerativeAIEmbeddings\n",
    "from dotenv import load_dotenv\n",
    "\n",
    "# .env dosyasını yükle \n",
    "load_dotenv()\n",
    "\n",
    "# Google Gemini Embedding modelini başlat\n",
    "embeddings = GoogleGenerativeAIEmbeddings(model=\"models/embedding-001\")\n",
    "\n",
    "# ChromaDB'yi başlat ve tüm chunk'ları vektörleştirerek kaydet\n",
    "vectorstore = Chroma.from_texts(texts=docs, embedding=embeddings, persist_directory=\"./chroma_db\")\n",
    "\n",
    "print(\"Tüm chunk'lar embedding'e çevrildi ve ChromaDB'ye kaydedildi\")"
   ]
  },
  {
   "cell_type": "code",
   "execution_count": null,
   "id": "8978118d-9a17-4b98-be2e-cff3b2185aac",
   "metadata": {},
   "outputs": [],
   "source": [
    "# # Örnek bir sorguyu vektörleştir ve sonucu göster\n",
    "# vector = embeddings.embed_query(\"hello, world!\")\n",
    "# print(vector[:5])  # İlk 5 elemanı yazdır"
   ]
  },
  {
   "cell_type": "markdown",
   "id": "0ee22032-f359-4909-8a48-266c7ecb5606",
   "metadata": {},
   "source": [
    "# **Retriever (Bilgi Getirici) Oluşturma**\n",
    "###  Retriever ile, kullanıcının sorduğu soruya en uygun metinleri veritabanından getiriyoruz."
   ]
  },
  {
   "cell_type": "code",
   "execution_count": 53,
   "id": "d7ceb5dd-6622-459e-8e1f-afd9cc97e0ac",
   "metadata": {},
   "outputs": [],
   "source": [
    "# ChromaDB'den verileri tekrar yükle\n",
    "vectorstore = Chroma(persist_directory=\"./chroma_db\", embedding_function=embeddings)\n",
    "\n",
    "# Retriever oluştur (benzerlik araması yapacak)\n",
    "retriever = vectorstore.as_retriever(search_type=\"similarity\", search_kwargs={\"k\": 10})"
   ]
  },
  {
   "cell_type": "markdown",
   "id": "6f4cbb4e-e75e-4a5d-bbd9-f5fd4efc56ab",
   "metadata": {},
   "source": [
    "# **LLM (Büyük Dil Modeli) ile RAG Zinciri Oluşturma**\n",
    "### Retriever ile getirilen bilgileri kullanarak, Gemini API üzerinden cevap oluşturuyoruz."
   ]
  },
  {
   "cell_type": "code",
   "execution_count": 71,
   "id": "2c55a0d6-a288-4180-ba98-024f61b44d59",
   "metadata": {},
   "outputs": [],
   "source": [
    "from langchain_google_genai import ChatGoogleGenerativeAI\n",
    "from langchain.chains import create_retrieval_chain\n",
    "from langchain_core.prompts import ChatPromptTemplate\n",
    "from langchain.chains.combine_documents import create_stuff_documents_chain\n",
    "\n",
    "# Google Gemini LLM'yi başlat\n",
    "llm = ChatGoogleGenerativeAI(\n",
    "    model=\"gemini-1.5-pro\",\n",
    "    temperature=0.3,\n",
    "    max_tokens=500\n",
    ")\n",
    "\n",
    "# sistem prompt'u\n",
    "system_prompt = (\n",
    "    \"Sen bir yardımcı asistansın ve yalnızca futbol kuralları hakkında sorulara cevap veriyorsun. \"\n",
    "    \"Yanıtlarını yalnızca verilen bağlam içeriğinden oluştur. \"\n",
    "    \"Eğer sorunun cevabını bilmiyorsan, 'Bu konuda yardımcı olamıyorum.' de. \"\n",
    "    \"Cevaplarını en fazla üç cümle ile ver ve doğru bilgi içerdiğinden emin ol.\\n\\n\"\n",
    "    \"{context}\"\n",
    ")\n",
    "\n",
    "# Prompt şablonunu oluştur\n",
    "prompt = ChatPromptTemplate.from_messages(\n",
    "    [\n",
    "        (\"system\", system_prompt),\n",
    "        (\"human\", \"{input}\")\n",
    "    ]\n",
    ")\n",
    "\n",
    "# Question-Answer zincirini oluştur\n",
    "question_answer_chain = create_stuff_documents_chain(llm, prompt)\n",
    "\n",
    "# Retriever + LLM kombinasyonu ile RAG zincirini oluştur\n",
    "rag_chain = create_retrieval_chain(retriever, question_answer_chain)"
   ]
  },
  {
   "cell_type": "markdown",
   "id": "46151180-74af-496e-8ae4-b9d52be20af6",
   "metadata": {},
   "source": [
    "# Deneme Sorusu"
   ]
  },
  {
   "cell_type": "code",
   "execution_count": 72,
   "id": "4715ba27-cd40-497c-9a0a-6936266633fa",
   "metadata": {},
   "outputs": [
    {
     "name": "stdout",
     "output_type": "stream",
     "text": [
      "Kırmızı kart, bir oyuncunun ihracını belirtir.  Bir oyuncuya, yedek oyuncuya, değiştirilmiş oyuncuya veya takım görevlisine kırmızı kart gösterilebilir. İhraç gerektiren ihlaller arasında, rakip takımın oyunu tekrar başlatmasını geciktirmek veya teknik alanı izinsiz terk etmek gibi davranışlar yer alır.\n"
     ]
    }
   ],
   "source": [
    "# Kullanıcıdan gelen soruyu işleyelim\n",
    "response = rag_chain.invoke({\"input\": \"Kırmızı kart nedir?\"})\n",
    "\n",
    "# Chatbot'un cevabını yazdır\n",
    "print(response[\"answer\"])"
   ]
  }
 ],
 "metadata": {
  "kernelspec": {
   "display_name": "Python 3 (ipykernel)",
   "language": "python",
   "name": "python3"
  },
  "language_info": {
   "codemirror_mode": {
    "name": "ipython",
    "version": 3
   },
   "file_extension": ".py",
   "mimetype": "text/x-python",
   "name": "python",
   "nbconvert_exporter": "python",
   "pygments_lexer": "ipython3",
   "version": "3.10.16"
  }
 },
 "nbformat": 4,
 "nbformat_minor": 5
}
